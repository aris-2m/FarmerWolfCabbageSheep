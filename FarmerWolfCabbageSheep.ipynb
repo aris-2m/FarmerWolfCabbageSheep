{
 "cells": [
  {
   "cell_type": "markdown",
   "id": "2b536e7d",
   "metadata": {},
   "source": [
    "# FarmerWolfCabbageSheep with Search Algorithms"
   ]
  },
  {
   "cell_type": "markdown",
   "id": "d8541fd6",
   "metadata": {},
   "source": [
    "## By: Aris Merlix Monkoun"
   ]
  },
  {
   "cell_type": "markdown",
   "id": "73ca076d",
   "metadata": {},
   "source": [
    "A farmer with his wolf, his goat and his cabbage arrives at the edge of a river which he wishes to cross. \n",
    "\n",
    "There is a boat by the river, but, well sure, only the farmer can row. \n",
    "\n",
    "The boat can also only carry two things (including including the rower) at a time. \n",
    "<ul>\n",
    "    <li>If ever the wolf is left alone with the goat, the wolf will eat the goat</li>\n",
    "    <li>If the goat is left alone with the cabbage, the goat will eat the cabbage.</li>\n",
    "</ul> \n",
    "\n",
    "We let's hope the four get to the other side of the river safely."
   ]
  },
  {
   "cell_type": "markdown",
   "id": "d143eb02",
   "metadata": {},
   "source": [
    "## Libraries"
   ]
  },
  {
   "cell_type": "code",
   "execution_count": 35,
   "id": "382f3ff2",
   "metadata": {},
   "outputs": [],
   "source": [
    "import copy\n",
    "from enum import Enum"
   ]
  },
  {
   "cell_type": "markdown",
   "id": "b7cd415a",
   "metadata": {},
   "source": [
    "## States modeling"
   ]
  },
  {
   "cell_type": "markdown",
   "id": "22472e02",
   "metadata": {},
   "source": [
    "Each state will be modeled python dictionaries with 2 keys:\n",
    "- Key A modeling SIDE A\n",
    "- Key B modeling SIDE B"
   ]
  },
  {
   "cell_type": "code",
   "execution_count": 36,
   "id": "66a224b2",
   "metadata": {},
   "outputs": [
    {
     "data": {
      "text/plain": [
       "{'A': {'Cabbage', 'Farmer', 'Sheep', 'Wolf'}, 'B': set()}"
      ]
     },
     "execution_count": 36,
     "metadata": {},
     "output_type": "execute_result"
    }
   ],
   "source": [
    "initialState={\"A\":set(('Farmer', 'Sheep', 'Wolf', 'Cabbage')), \"B\":set()}\n",
    "initialState"
   ]
  },
  {
   "cell_type": "code",
   "execution_count": 37,
   "id": "dfaf966a",
   "metadata": {},
   "outputs": [
    {
     "data": {
      "text/plain": [
       "{'A': set(), 'B': {'Cabbage', 'Farmer', 'Sheep', 'Wolf'}}"
      ]
     },
     "execution_count": 37,
     "metadata": {},
     "output_type": "execute_result"
    }
   ],
   "source": [
    "finalState={\"A\":set(), \"B\":set(('Farmer', 'Sheep', 'Wolf', 'Cabbage'))}\n",
    "finalState"
   ]
  },
  {
   "cell_type": "markdown",
   "id": "e7cc0e4c",
   "metadata": {},
   "source": [
    "## States validity"
   ]
  },
  {
   "cell_type": "code",
   "execution_count": 38,
   "id": "833e37c0",
   "metadata": {},
   "outputs": [],
   "source": [
    "def safe_set(set_):\n",
    "    if ('Farmer' not in set_):\n",
    "        if (set_.intersection({'Sheep', 'Wolf'})=={'Sheep', 'Wolf'} \n",
    "            or \n",
    "            set_.intersection({'Sheep', 'Cabbage'})=={'Sheep', 'Cabbage'}\n",
    "            ): return False\n",
    "    return True"
   ]
  },
  {
   "cell_type": "code",
   "execution_count": 39,
   "id": "160de553",
   "metadata": {},
   "outputs": [],
   "source": [
    "def safe_state(state):\n",
    "    if (state is not None and (safe_set(state[\"A\"]) and safe_set(state[\"B\"]))):\n",
    "        return True\n",
    "    return False"
   ]
  },
  {
   "cell_type": "markdown",
   "id": "bb4de457",
   "metadata": {},
   "source": [
    "## Actions modeling"
   ]
  },
  {
   "cell_type": "code",
   "execution_count": 40,
   "id": "ee053990",
   "metadata": {},
   "outputs": [],
   "source": [
    "def action(state, type_action, move_individual, show_messages):\n",
    "    \n",
    "    state=copy.deepcopy(state)\n",
    "    \n",
    "    #type_action can be: True (A to B) or False (B to A)\n",
    "    #move_individual can be: 'Sheep', 'Cabbage', 'Wolf', 'none'\n",
    "    #show_messages can be True or False: depending of if you want to show error messages\n",
    "    \n",
    "    if show_messages: print(\"\\nTesting action _\")\n",
    "    if type_action==True:\n",
    "        \n",
    "        if move_individual=='none':\n",
    "            if ('Farmer' in state[\"A\"]):\n",
    "                if show_messages: print(\"Moving {} from A to B ...\".format('Farmer'))\n",
    "                state[\"A\"].remove('Farmer')\n",
    "                state[\"B\"].add('Farmer')\n",
    "                return(state)\n",
    "            else:\n",
    "                if show_messages: print(\"Invalid action...\")\n",
    "                return None\n",
    "        else:\n",
    "            try:\n",
    "                if (move_individual in state[\"A\"]):\n",
    "                    if show_messages: print(\"Moving {} and {} from A to B ...\".format('Farmer',move_individual))\n",
    "                    state[\"A\"].remove(move_individual)\n",
    "                    state[\"B\"].add(move_individual)\n",
    "\n",
    "                    state[\"A\"].remove('Farmer')\n",
    "                    state[\"B\"].add('Farmer')\n",
    "                    return(state)\n",
    "                else:\n",
    "                    if show_messages: print(\"Invalid action...\")\n",
    "                    return None\n",
    "            except:\n",
    "                if show_messages: print(\"Invalid action...\")\n",
    "                return None\n",
    "        \n",
    "    else:\n",
    "        if (move_individual=='none'):      \n",
    "            if ('Farmer' in state[\"B\"]):\n",
    "                if show_messages: print(\"Moving {} from B to A ...\".format('Farmer'))\n",
    "                state[\"B\"].remove('Farmer')\n",
    "                state[\"A\"].add('Farmer')\n",
    "                return(state)\n",
    "            else:\n",
    "                if show_messages: print(\"Invalid action...\")\n",
    "                return None\n",
    "            \n",
    "        else:   \n",
    "            try:\n",
    "                if (move_individual in state[\"B\"]):\n",
    "                    if show_messages: print(\"Moving {} and {} from  B to A ...\".format('Farmer',move_individual))\n",
    "\n",
    "                    state[\"B\"].remove(move_individual)\n",
    "                    state[\"A\"].add(move_individual)\n",
    "\n",
    "                    state[\"B\"].remove('Farmer')\n",
    "                    state[\"A\"].add('Farmer')\n",
    "                    return(state)\n",
    "                else:\n",
    "                    if show_messages: print(\"Invalid action...\")\n",
    "                    return None\n",
    "            \n",
    "            except:\n",
    "                if show_messages: print(\"Invalid action...\")\n",
    "                return None"
   ]
  },
  {
   "cell_type": "code",
   "execution_count": 41,
   "id": "622f3138",
   "metadata": {},
   "outputs": [],
   "source": [
    "class Actions(Enum):\n",
    "    #All possible actions here\n",
    "    A1 = [True, 'none']\n",
    "    A2 = [True, 'Sheep']\n",
    "    A3 = [True, 'Cabbage']\n",
    "    A4 = [True, 'Wolf']\n",
    "    A5 = [False, 'none']\n",
    "    A6 = [False, 'Sheep']\n",
    "    A7 = [False, 'Cabbage']\n",
    "    A8 = [False, 'Wolf']"
   ]
  },
  {
   "cell_type": "code",
   "execution_count": 42,
   "id": "11d8c3ab",
   "metadata": {},
   "outputs": [],
   "source": [
    "def potentialSafeSuccessors(state):\n",
    "    #For this state, get possible actions states they generate\n",
    "    succ=[]\n",
    "    for a in Actions:\n",
    "        generatedState=action(state=state, type_action=a.value[0], move_individual=a.value[1], show_messages=False)\n",
    "        \n",
    "        #filter valid states after actions\n",
    "        if (safe_state(generatedState)):\n",
    "            succ.append(generatedState)\n",
    "    return succ"
   ]
  },
  {
   "cell_type": "markdown",
   "id": "5ce7bd6f",
   "metadata": {},
   "source": [
    "### Tests"
   ]
  },
  {
   "cell_type": "code",
   "execution_count": 43,
   "id": "9019f956",
   "metadata": {},
   "outputs": [
    {
     "name": "stdout",
     "output_type": "stream",
     "text": [
      "Test 0:\n"
     ]
    },
    {
     "data": {
      "text/plain": [
       "[{'A': {'Cabbage', 'Wolf'}, 'B': {'Farmer', 'Sheep'}},\n",
       " {'A': {'Wolf'}, 'B': {'Cabbage', 'Farmer', 'Sheep'}},\n",
       " {'A': {'Cabbage'}, 'B': {'Farmer', 'Sheep', 'Wolf'}}]"
      ]
     },
     "execution_count": 43,
     "metadata": {},
     "output_type": "execute_result"
    }
   ],
   "source": [
    "print(\"Test 0:\")\n",
    "state={'A': {'Cabbage', 'Farmer', 'Wolf'}, 'B': {'Sheep'}}\n",
    "potentialSafeSuccessors(state)"
   ]
  },
  {
   "cell_type": "markdown",
   "id": "e4d33be6",
   "metadata": {},
   "source": [
    "## But"
   ]
  },
  {
   "cell_type": "code",
   "execution_count": 44,
   "id": "c88b3020",
   "metadata": {},
   "outputs": [],
   "source": [
    "def testBut(initialState_, finalState_):\n",
    "    if initialState_==finalState_:\n",
    "        return True\n",
    "    else:\n",
    "        return False"
   ]
  },
  {
   "cell_type": "markdown",
   "id": "126cc46f",
   "metadata": {},
   "source": [
    "## Depth First Search"
   ]
  },
  {
   "cell_type": "code",
   "execution_count": 45,
   "id": "f812f0d0",
   "metadata": {},
   "outputs": [],
   "source": [
    "def dfs(initialState_,finalState_):\n",
    "    \n",
    "    initialState=copy.deepcopy(initialState_)\n",
    "    \n",
    "    stackStates=[initialState]\n",
    "    exploredStates=list()\n",
    "    \n",
    "    while(True):\n",
    "        if stackStates == []:\n",
    "            return\n",
    "        \n",
    "        else:\n",
    "            thisState=stackStates.pop()\n",
    "            exploredStates.append(thisState)\n",
    "\n",
    "            if(testBut(thisState, finalState_)):\n",
    "                return exploredStates\n",
    "\n",
    "            else:\n",
    "                potentialSuccessors_=potentialSafeSuccessors(thisState)\n",
    "                for i in potentialSuccessors_:\n",
    "                    if ((i not in stackStates) and (i not in exploredStates)):\n",
    "                        stackStates.append(i)"
   ]
  },
  {
   "cell_type": "code",
   "execution_count": 46,
   "id": "bc2fb46d",
   "metadata": {},
   "outputs": [],
   "source": [
    "path=dfs(initialState, finalState)"
   ]
  },
  {
   "cell_type": "code",
   "execution_count": 47,
   "id": "44718e7a",
   "metadata": {},
   "outputs": [
    {
     "data": {
      "text/plain": [
       "[{'A': {'Cabbage', 'Farmer', 'Sheep', 'Wolf'}, 'B': set()},\n",
       " {'A': {'Cabbage', 'Wolf'}, 'B': {'Farmer', 'Sheep'}},\n",
       " {'A': {'Cabbage', 'Farmer', 'Wolf'}, 'B': {'Sheep'}},\n",
       " {'A': {'Cabbage'}, 'B': {'Farmer', 'Sheep', 'Wolf'}},\n",
       " {'A': {'Cabbage', 'Farmer', 'Sheep'}, 'B': {'Wolf'}},\n",
       " {'A': {'Sheep'}, 'B': {'Cabbage', 'Farmer', 'Wolf'}},\n",
       " {'A': {'Farmer', 'Sheep', 'Wolf'}, 'B': {'Cabbage'}},\n",
       " {'A': {'Farmer', 'Sheep'}, 'B': {'Cabbage', 'Wolf'}},\n",
       " {'A': set(), 'B': {'Cabbage', 'Farmer', 'Sheep', 'Wolf'}}]"
      ]
     },
     "execution_count": 47,
     "metadata": {},
     "output_type": "execute_result"
    }
   ],
   "source": [
    "path"
   ]
  },
  {
   "cell_type": "markdown",
   "id": "e61eec58",
   "metadata": {},
   "source": [
    "## Breadth First Search"
   ]
  },
  {
   "cell_type": "code",
   "execution_count": 48,
   "id": "43cc115e",
   "metadata": {},
   "outputs": [],
   "source": [
    "def bfs(initialState_, finalState_):\n",
    "    \n",
    "    initialState=copy.deepcopy(initialState_)\n",
    "    \n",
    "    queueStates=[initialState]\n",
    "    exploredStates=list()\n",
    "    \n",
    "    while(True):\n",
    "        if queueStates == []:\n",
    "            return\n",
    "        \n",
    "        else:\n",
    "            thisState=queueStates.pop(0)\n",
    "            exploredStates.append(thisState)\n",
    "\n",
    "            if(testBut(thisState,finalState_)):\n",
    "                return exploredStates\n",
    "\n",
    "            else:\n",
    "                potentialSuccessors_=potentialSafeSuccessors(thisState)\n",
    "                for i in potentialSuccessors_:\n",
    "                    if ((i not in queueStates) and (i not in exploredStates)):\n",
    "                        queueStates.append(i)"
   ]
  },
  {
   "cell_type": "code",
   "execution_count": 49,
   "id": "6416d91a",
   "metadata": {},
   "outputs": [],
   "source": [
    "path=bfs(initialState, finalState)"
   ]
  },
  {
   "cell_type": "code",
   "execution_count": 50,
   "id": "9ec8623c",
   "metadata": {},
   "outputs": [
    {
     "data": {
      "text/plain": [
       "[{'A': {'Cabbage', 'Farmer', 'Sheep', 'Wolf'}, 'B': set()},\n",
       " {'A': {'Cabbage', 'Wolf'}, 'B': {'Farmer', 'Sheep'}},\n",
       " {'A': {'Cabbage', 'Farmer', 'Wolf'}, 'B': {'Sheep'}},\n",
       " {'A': {'Wolf'}, 'B': {'Cabbage', 'Farmer', 'Sheep'}},\n",
       " {'A': {'Cabbage'}, 'B': {'Farmer', 'Sheep', 'Wolf'}},\n",
       " {'A': {'Farmer', 'Sheep', 'Wolf'}, 'B': {'Cabbage'}},\n",
       " {'A': {'Cabbage', 'Farmer', 'Sheep'}, 'B': {'Wolf'}},\n",
       " {'A': {'Sheep'}, 'B': {'Cabbage', 'Farmer', 'Wolf'}},\n",
       " {'A': {'Farmer', 'Sheep'}, 'B': {'Cabbage', 'Wolf'}},\n",
       " {'A': set(), 'B': {'Cabbage', 'Farmer', 'Sheep', 'Wolf'}}]"
      ]
     },
     "execution_count": 50,
     "metadata": {},
     "output_type": "execute_result"
    }
   ],
   "source": [
    "path"
   ]
  }
 ],
 "metadata": {
  "kernelspec": {
   "display_name": "mainconda",
   "language": "python",
   "name": "mainconda"
  },
  "language_info": {
   "codemirror_mode": {
    "name": "ipython",
    "version": 3
   },
   "file_extension": ".py",
   "mimetype": "text/x-python",
   "name": "python",
   "nbconvert_exporter": "python",
   "pygments_lexer": "ipython3",
   "version": "3.9.7"
  },
  "varInspector": {
   "cols": {
    "lenName": 16,
    "lenType": 16,
    "lenVar": 40
   },
   "kernels_config": {
    "python": {
     "delete_cmd_postfix": "",
     "delete_cmd_prefix": "del ",
     "library": "var_list.py",
     "varRefreshCmd": "print(var_dic_list())"
    },
    "r": {
     "delete_cmd_postfix": ") ",
     "delete_cmd_prefix": "rm(",
     "library": "var_list.r",
     "varRefreshCmd": "cat(var_dic_list()) "
    }
   },
   "types_to_exclude": [
    "module",
    "function",
    "builtin_function_or_method",
    "instance",
    "_Feature"
   ],
   "window_display": false
  }
 },
 "nbformat": 4,
 "nbformat_minor": 5
}
